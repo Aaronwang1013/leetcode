{
 "cells": [
  {
   "cell_type": "code",
   "execution_count": 1,
   "source": [
    "nums = [2,7,11,15]"
   ],
   "outputs": [],
   "metadata": {}
  },
  {
   "cell_type": "code",
   "execution_count": 3,
   "source": [
    "for i , num in enumerate(nums):\n",
    "    print(i , num)"
   ],
   "outputs": [
    {
     "output_type": "stream",
     "name": "stdout",
     "text": [
      "0 2\n",
      "1 7\n",
      "2 11\n",
      "3 15\n"
     ]
    }
   ],
   "metadata": {}
  }
 ],
 "metadata": {
  "orig_nbformat": 4,
  "language_info": {
   "name": "python",
   "version": "3.8.10",
   "mimetype": "text/x-python",
   "codemirror_mode": {
    "name": "ipython",
    "version": 3
   },
   "pygments_lexer": "ipython3",
   "nbconvert_exporter": "python",
   "file_extension": ".py"
  },
  "kernelspec": {
   "name": "python3",
   "display_name": "Python 3.8.10 64-bit ('python': conda)"
  },
  "interpreter": {
   "hash": "23e1a1cc2aafdeb524172b19dc09bd958801dd7abab6780ae782bb88f066bcfd"
  }
 },
 "nbformat": 4,
 "nbformat_minor": 2
}